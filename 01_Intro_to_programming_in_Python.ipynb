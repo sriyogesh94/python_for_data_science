{
 "cells": [
  {
   "cell_type": "markdown",
   "metadata": {},
   "source": [
    "<h1 style=\"text-align: center;\"> Introduction to Programming in Python </h1>\n",
    "\n",
    "<br />\n",
    "\n",
    "<img src='img/guido_van_rossum.jpg' width='200px'/>\n",
    "\n",
    "* The Python programming language was developed 28 years ago in the year 1991 by _Guido van Rossum_. Python is a general purpose, high level, dynamically typed scripting language. Even though its roots lie in systems administration, python is currently used but is not limited to the following and more fields:\n",
    "\n",
    "        * Graphical user interfaces\n",
    "        \n",
    "        * Web frameworks\n",
    "\n",
    "        * Multimedia\n",
    "        \n",
    "        * Databases\n",
    "        \n",
    "        * Networking\n",
    "        \n",
    "        * Test frameworks\n",
    "        \n",
    "        * Automation\n",
    "\n",
    "        * Web scraping\n",
    "\n",
    "        * Documentation\n",
    "\n",
    "        * System administration\n",
    "\n",
    "        * Scientific computing\n",
    "\n",
    "        * Text processing\n",
    "\n",
    "        * Image processing\n",
    "        \n",
    "        * Artificial Intelligence\n",
    "        \n",
    "\n",
    "## The Python Interpreter\n",
    "\n",
    "<br />\n",
    "\n",
    "* The python interpreter parses valid python statements and executes instructions. \n",
    "\n",
    "<br />\n",
    "\n",
    "* Once the python interpreter is installed, you can access the python interpreter by running the `python` command from the terminal\n",
    "\n",
    "<br />\n",
    "\n",
    "<img src='img/python_shell_interpreter.gif' width='600px'/>\n"
   ]
  },
  {
   "cell_type": "markdown",
   "metadata": {},
   "source": [
    "## Python Syntax\n",
    "\n",
    "<br />\n",
    "\n",
    "* Writing python code is fairly straight forward and the python syntax is designed to be closer to natural language than punctuation\n",
    "\n",
    "<br />\n",
    "\n",
    "* Let's start with the most basic instructions that can be executed by the python interpreter, using it as a calculator\n",
    "\n",
    "<br />\n",
    "\n",
    "* The python interpreter can handle numbers and operations between numbers, such as:\n",
    "\n",
    "        * Addition +\n",
    "        \n",
    "        * Subtraction -\n",
    "        \n",
    "        * Multiplication *\n",
    "        \n",
    "        * Division /\n",
    "        \n",
    "        * Modulo % (Computes the remainder)\n",
    "        \n",
    "* Let us try a few operations below"
   ]
  },
  {
   "cell_type": "code",
   "execution_count": 1,
   "metadata": {},
   "outputs": [
    {
     "data": {
      "text/plain": [
       "6"
      ]
     },
     "execution_count": 1,
     "metadata": {},
     "output_type": "execute_result"
    }
   ],
   "source": [
    "3 + 3"
   ]
  },
  {
   "cell_type": "code",
   "execution_count": 2,
   "metadata": {},
   "outputs": [
    {
     "data": {
      "text/plain": [
       "4194"
      ]
     },
     "execution_count": 2,
     "metadata": {},
     "output_type": "execute_result"
    }
   ],
   "source": [
    "18 * 233"
   ]
  },
  {
   "cell_type": "code",
   "execution_count": null,
   "metadata": {},
   "outputs": [],
   "source": [
    "23 - 18 + 16 * (2 + 4) / 3"
   ]
  },
  {
   "cell_type": "code",
   "execution_count": null,
   "metadata": {},
   "outputs": [],
   "source": []
  },
  {
   "cell_type": "code",
   "execution_count": null,
   "metadata": {},
   "outputs": [],
   "source": []
  },
  {
   "cell_type": "code",
   "execution_count": null,
   "metadata": {},
   "outputs": [],
   "source": []
  },
  {
   "cell_type": "code",
   "execution_count": null,
   "metadata": {},
   "outputs": [],
   "source": []
  },
  {
   "cell_type": "code",
   "execution_count": null,
   "metadata": {},
   "outputs": [],
   "source": []
  },
  {
   "cell_type": "code",
   "execution_count": null,
   "metadata": {},
   "outputs": [],
   "source": []
  },
  {
   "cell_type": "code",
   "execution_count": null,
   "metadata": {},
   "outputs": [],
   "source": []
  },
  {
   "cell_type": "code",
   "execution_count": null,
   "metadata": {},
   "outputs": [],
   "source": []
  }
 ],
 "metadata": {
  "kernelspec": {
   "display_name": "Python 3",
   "language": "python",
   "name": "python3"
  },
  "language_info": {
   "codemirror_mode": {
    "name": "ipython",
    "version": 3
   },
   "file_extension": ".py",
   "mimetype": "text/x-python",
   "name": "python",
   "nbconvert_exporter": "python",
   "pygments_lexer": "ipython3",
   "version": "3.6.4"
  }
 },
 "nbformat": 4,
 "nbformat_minor": 2
}
