{
 "cells": [
  {
   "cell_type": "markdown",
   "metadata": {},
   "source": [
    "<h1 style=\"text-align: center;\"> Introduction to Programming in Python </h1>\n",
    "\n",
    "<br />\n",
    "\n",
    "<img src='img/guido_van_rossum.jpg' width='200px'/>\n",
    "\n",
    "* The Python programming language was developed 28 years ago in the year 1991 by _Guido van Rossum_. Python is a general purpose, high level, dynamically typed scripting language. Even though its roots lie in systems administration, python is currently used but is not limited to the following and more fields:\n",
    "\n",
    "        * Graphical user interfaces\n",
    "        \n",
    "        * Web frameworks\n",
    "\n",
    "        * Multimedia\n",
    "        \n",
    "        * Databases\n",
    "        \n",
    "        * Networking\n",
    "        \n",
    "        * Test frameworks\n",
    "        \n",
    "        * Automation\n",
    "\n",
    "        * Web scraping[97]\n",
    "\n",
    "        * Documentation\n",
    "\n",
    "        * System administration\n",
    "\n",
    "        * Scientific computing\n",
    "\n",
    "        * Text processing\n",
    "\n",
    "        * Image processing\n",
    "        \n",
    "        * Artificial Intelligence\n",
    "        \n",
    "\n",
    "## The Python Interpreter\n",
    "\n",
    "* The python\n",
    "\n",
    "<br />\n",
    "\n",
    "<img src='img/python_shell_interpreter.gif' width='600px'/>\n"
   ]
  },
  {
   "cell_type": "code",
   "execution_count": null,
   "metadata": {},
   "outputs": [],
   "source": []
  },
  {
   "cell_type": "code",
   "execution_count": null,
   "metadata": {},
   "outputs": [],
   "source": []
  },
  {
   "cell_type": "code",
   "execution_count": null,
   "metadata": {},
   "outputs": [],
   "source": []
  },
  {
   "cell_type": "code",
   "execution_count": null,
   "metadata": {},
   "outputs": [],
   "source": []
  },
  {
   "cell_type": "code",
   "execution_count": null,
   "metadata": {},
   "outputs": [],
   "source": []
  },
  {
   "cell_type": "code",
   "execution_count": null,
   "metadata": {},
   "outputs": [],
   "source": []
  },
  {
   "cell_type": "code",
   "execution_count": null,
   "metadata": {},
   "outputs": [],
   "source": []
  },
  {
   "cell_type": "code",
   "execution_count": null,
   "metadata": {},
   "outputs": [],
   "source": []
  },
  {
   "cell_type": "code",
   "execution_count": null,
   "metadata": {},
   "outputs": [],
   "source": []
  },
  {
   "cell_type": "code",
   "execution_count": null,
   "metadata": {},
   "outputs": [],
   "source": []
  },
  {
   "cell_type": "code",
   "execution_count": null,
   "metadata": {},
   "outputs": [],
   "source": []
  },
  {
   "cell_type": "code",
   "execution_count": null,
   "metadata": {},
   "outputs": [],
   "source": []
  }
 ],
 "metadata": {
  "kernelspec": {
   "display_name": "Python 3",
   "language": "python",
   "name": "python3"
  },
  "language_info": {
   "codemirror_mode": {
    "name": "ipython",
    "version": 3
   },
   "file_extension": ".py",
   "mimetype": "text/x-python",
   "name": "python",
   "nbconvert_exporter": "python",
   "pygments_lexer": "ipython3",
   "version": "3.6.4"
  }
 },
 "nbformat": 4,
 "nbformat_minor": 2
}
