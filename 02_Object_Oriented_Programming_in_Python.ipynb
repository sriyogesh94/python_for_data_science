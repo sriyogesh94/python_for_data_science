{
 "cells": [
  {
   "cell_type": "markdown",
   "metadata": {},
   "source": [
    "<h1 style=\"text-align: center;\"> Introduction to Object Oriented Programming in Python </h1>\n",
    "\n",
    "<h3> Why do we need the OOP pattern? </h3>\n",
    "\n",
    "* Most of the code that we wrote up until this point used functions to write reusable code, these functions essentially are blocks of code that might take an input and perform some action, including but not limited to returning outputs, this pattern is known as the __procedural programming__ \n",
    "\n",
    "<br />\n",
    "\n",
    "* Speaking vaguely yet intutively, you can think about the __OOP pattern__ as a way to bundle __functions and variables (data) together__ leading to benifits such as follows\n",
    "\n",
    "    <br />\n",
    "\n",
    "    + Reduce the amount of code that has to be written; DRY (Don't Repeat Yourself)\n",
    "\n",
    "    <br />\n",
    "\n",
    "    + When the OOP pattern is used, code is highly modular and reusable        \n",
    "\n",
    "    <br />\n",
    "\n",
    "    + Easy to adapt and interact/interface with\n",
    "        \n",
    "<h3> Key terms to watch out for </h3>\n",
    "\n",
    "* Classes\n",
    "* Objects\n",
    "* Methods\n",
    "* Fields\n",
    "* Attributes\n"
   ]
  },
  {
   "cell_type": "markdown",
   "metadata": {},
   "source": [
    "### Classes vs Objects\n",
    "\n",
    "* Think about __classes as a blue prints of functions and variables (data)__ where as __objects as the instances of these blue prints__. For example, __`int` is a blueprint__ where as __`2` is an instance__ \n",
    "\n",
    "<br/>\n",
    "\n",
    "* This is where a lot of the people switch off, because most of the material out starts teaching the idea of object oriented programming using Dogs or Cats. With python we have the ability to look at the inbuilt datastructures as classes and then proceed to such examples.\n",
    "\n",
    "<br/>\n",
    "\n",
    "* At Insofe, we observed that students who are already comfortable with procedural design patterns tend to pick stuff up when the examples from the language itself are introduced first.\n",
    "\n",
    "<br/>\n",
    "\n",
    "* So, let us look at __lists__ in python, something that you are already familiar and comfortable with\n",
    "\n",
    "<br/>\n",
    "\n",
    "* Consider the following two lists `a = [1, 2, 3]` and `b = [4, 5, 6]`\n",
    "\n",
    "<br/>\n",
    "\n",
    "* Print out the __type__ of both the lists\n",
    "\n",
    "<br/>"
   ]
  },
  {
   "cell_type": "code",
   "execution_count": 3,
   "metadata": {
    "scrolled": true
   },
   "outputs": [
    {
     "name": "stdout",
     "output_type": "stream",
     "text": [
      "<class 'list'>\n",
      "<class 'list'>\n"
     ]
    }
   ],
   "source": [
    "a = [1, 2, 3]\n",
    "b = [4, 5, 6]\n",
    "print(type(a))\n",
    "print(type(b))"
   ]
  },
  {
   "cell_type": "markdown",
   "metadata": {},
   "source": [
    "### Observations from a Python List\n",
    "\n",
    "* You will notice that the __type__ of these lists is printed out as `<class 'list'>`\n",
    "\n",
    "<br/>\n",
    "\n",
    "* The above statement essentially means that both of the objects share the same __blue print of a list__\n",
    "\n",
    "<br/>    \n",
    "\n",
    "* But both the objects are also different, how?\n",
    "\n",
    "<br/>    \n",
    "\n",
    "* The objects store __different data and can have completely different paths going forward__ but have a similar behaviour\n",
    "\n",
    "<br/>    \n",
    "\n",
    "* __What does behaviour of lists mean?__ \n",
    "\n",
    "    + Lists have specififc functions defined in their blueprint / class called __methods__ that can be used such as append, pop, etc.\n",
    " \n",
    "<br />\n",
    "\n",
    "* We use a function in the following way __`functionName(argumentOne, argumentTwo)`__\n",
    "\n",
    "    + __Ex:__ `type(123)`\n",
    "\n",
    "<br />\n",
    "\n",
    "* A __method__ call is similar yet slightly different __`objectOne.methodName(argumentOne, argumentTwo)`__\n",
    "\n",
    "    + __Ex:__ `listOne = [1, 2, 3]; listOne.append(4)`"
   ]
  },
  {
   "cell_type": "markdown",
   "metadata": {},
   "source": [
    "### Recap of terms covered till now\n",
    "\n",
    "<br />\n",
    "\n",
    "* __Classes:__ A blue print of code wth a combination of __methods (functions)__ and __variables (data)__ __[In the above exaple we had the type list]__\n",
    "\n",
    "<br />\n",
    "\n",
    "* __Objects:__ Instance of a __Class__ __[In the above exaple we had two lists `a` and `b`]__\n",
    "\n",
    "<br />\n",
    "    \n",
    "* __Methods:__  Functions defined inside a __class__ that can be used to manipulate the data stored in the object of the class __[In the above example we had the `append()` method]__"
   ]
  },
  {
   "cell_type": "markdown",
   "metadata": {},
   "source": [
    "### Understanding the Implementation of Python Classes\n",
    "\n",
    "<br />\n",
    "\n",
    "#### Defining a Class\n",
    "\n",
    "<br />\n",
    "\n",
    "* We use the `class` keyword to define the __blueprint__ of __functions + variables__\n",
    "\n",
    "* The act of defining a class is extremely similar to that of defining a function\n"
   ]
  },
  {
   "cell_type": "code",
   "execution_count": 22,
   "metadata": {},
   "outputs": [],
   "source": [
    "class MyList:\n",
    "    pass"
   ]
  },
  {
   "cell_type": "markdown",
   "metadata": {},
   "source": [
    "#### Creating an Object of the Class MyList\n",
    "\n",
    "* If we want to create objects of the class `MyList` we use a simple assignment statement as follows\n",
    "\n",
    "```\n",
    "\n",
    "    objectNameOne = ClassName()\n",
    "    \n",
    "    objectNameTwo = ClassName()\n",
    "\n",
    "```\n",
    "\n",
    "* Now, the object has access to all the methods and variables from the class definition of `MyList`"
   ]
  },
  {
   "cell_type": "code",
   "execution_count": 23,
   "metadata": {},
   "outputs": [],
   "source": [
    "myListObject = MyList()"
   ]
  },
  {
   "cell_type": "code",
   "execution_count": 24,
   "metadata": {},
   "outputs": [
    {
     "data": {
      "text/plain": [
       "__main__.MyList"
      ]
     },
     "execution_count": 24,
     "metadata": {},
     "output_type": "execute_result"
    }
   ],
   "source": [
    "type(myListObject)"
   ]
  },
  {
   "cell_type": "markdown",
   "metadata": {},
   "source": [
    "__From the above cell, we can see that the class of the `myListObject` is printed out as__ `__main__.MyList`\n",
    "\n",
    "* NOTE: The `__main__.` specifies __where the class was defined__, since the class was defined where the code is executing, it is the `__main__` namespace\n",
    "\n",
    "* Let us look at how the classes of other functions are printed with the `type()` function \n"
   ]
  },
  {
   "cell_type": "markdown",
   "metadata": {},
   "source": [
    "* The following code is in the `oop_test.py` file which is uploaded with the other materials\n",
    "\n",
    "```\n",
    "    class RemoteList():\n",
    "        pass\n",
    "\n",
    "```\n",
    "* Let us now import the class from the file below\n"
   ]
  },
  {
   "cell_type": "code",
   "execution_count": 25,
   "metadata": {},
   "outputs": [
    {
     "data": {
      "text/plain": [
       "oop_test.RemoteList"
      ]
     },
     "execution_count": 25,
     "metadata": {},
     "output_type": "execute_result"
    }
   ],
   "source": [
    "from oop_test import RemoteList\n",
    "\n",
    "objectRemoteList = RemoteList()\n",
    "\n",
    "type(objectRemoteList)"
   ]
  },
  {
   "cell_type": "markdown",
   "metadata": {},
   "source": [
    "* From the `numpy` module, looking at the `type()` of the numpy array we can see that it is from the `numpy` namespace and is an object of the `ndarray`"
   ]
  },
  {
   "cell_type": "code",
   "execution_count": 26,
   "metadata": {
    "scrolled": true
   },
   "outputs": [
    {
     "data": {
      "text/plain": [
       "numpy.ndarray"
      ]
     },
     "execution_count": 26,
     "metadata": {},
     "output_type": "execute_result"
    }
   ],
   "source": [
    "import numpy as np\n",
    "\n",
    "arrayOne = np.array([1, 2, 3, 4])\n",
    "\n",
    "type(arrayOne)"
   ]
  },
  {
   "cell_type": "markdown",
   "metadata": {},
   "source": [
    "### Methods\n",
    "\n",
    "* Methods are __functions__ defined in the __body of a class__\n",
    "\n",
    "<br />\n",
    "\n",
    "* Just like a normal function we can define methods using the `def` keyword\n",
    "\n",
    "<br />\n",
    "\n",
    "* The only difference is the use of `self` variable, it has to be the first argument in every method defined in the `class`\n",
    "\n",
    "<br />\n",
    "\n",
    "* `self` is arbitrary and can be replaced with any other name, but it is important to follow the convention as it would make collaboration much simpler. More details on self will be covered later in this tutorial\n"
   ]
  },
  {
   "cell_type": "code",
   "execution_count": 46,
   "metadata": {},
   "outputs": [],
   "source": [
    "class WeirdClass:\n",
    "    \n",
    "    def shout(self):\n",
    "        print('SHOUT')"
   ]
  },
  {
   "cell_type": "markdown",
   "metadata": {},
   "source": [
    "#### EXERCISE 1: Create an object of the WeirdClass"
   ]
  },
  {
   "cell_type": "code",
   "execution_count": 47,
   "metadata": {},
   "outputs": [],
   "source": [
    "objectWeird = WeirdClass()"
   ]
  },
  {
   "cell_type": "markdown",
   "metadata": {},
   "source": [
    "* We can then call any of the methods available on the above object"
   ]
  },
  {
   "cell_type": "code",
   "execution_count": 48,
   "metadata": {},
   "outputs": [
    {
     "name": "stdout",
     "output_type": "stream",
     "text": [
      "SHOUT\n"
     ]
    }
   ],
   "source": [
    "objectWeird.shout()"
   ]
  },
  {
   "cell_type": "markdown",
   "metadata": {},
   "source": [
    "#### EXERCISE 2:\n",
    "\n",
    "* Define a `class Insofe` \n",
    "\n",
    "<br />\n",
    "\n",
    "* Define a method `printGoal` in the body of the class `Insofe` that prints `'Inspire, Educate and Transform'`\n",
    "\n",
    "<br />\n",
    "\n",
    "* Create an object named `insofeStudent` of the class `Insofe` and call the method `printGoal` on `insofeStudent`"
   ]
  },
  {
   "cell_type": "markdown",
   "metadata": {},
   "source": [
    "### The `__init__` method\n",
    "\n",
    "* Till now, most of the stuff we've seen is pretty similar to the procedural patterns with the only new additions being the keyword `class` and the variable name `slef`\n",
    "\n",
    "<br />\n",
    "\n",
    "* Now, let us look at a __special variable name__ that can be used __inside the body__ of a class definition\n",
    "\n",
    "<br />\n",
    "\n",
    "* These __special variables__ are interpreted differently by the __python interpreter__\n",
    "\n",
    "<br /> \n",
    "\n",
    "* So, let us start by understanding the `__init__` method\n",
    "\n",
    "\n",
    "<br /> \n",
    "\n",
    "* Use the above `WeirdClass` definition and replace `shout` method name with `__init__` and create a class `WeirdClassTwo`"
   ]
  },
  {
   "cell_type": "code",
   "execution_count": 49,
   "metadata": {},
   "outputs": [],
   "source": [
    "class WeirdClassTwo:\n",
    "    \n",
    "    def __init__(self):\n",
    "        print('SHOUT')"
   ]
  },
  {
   "cell_type": "markdown",
   "metadata": {},
   "source": [
    "Now, create an object of the class `WeirdClassTwo`"
   ]
  },
  {
   "cell_type": "code",
   "execution_count": 53,
   "metadata": {},
   "outputs": [
    {
     "name": "stdout",
     "output_type": "stream",
     "text": [
      "SHOUT\n"
     ]
    }
   ],
   "source": [
    "objectWeirdTwo = WeirdClassTwo()"
   ]
  },
  {
   "cell_type": "markdown",
   "metadata": {},
   "source": [
    "* If you pay close attention to when the object is being created / instantiated, you'll notice that `SHOUT` is printed out to the console, where as before we had to actually call the method explicitly\n",
    "\n",
    "<br />\n",
    "\n",
    "* Essentially, whenever an object of a class is instantiated / created __the code present in the body of the__ `__init__` __method is executed__\n",
    "\n",
    "<br />\n",
    "\n",
    "* So, why do we need the __special__ `__init__` method?\n",
    "\n",
    "<br />\n",
    "\n",
    "* The `__init__` method along with the self variable helps us __initialize variables__ that can later be used by methods accesible by the object, let's take a look \n",
    "\n",
    "<br />\n",
    "\n",
    "* We already know that the `__init__` method runs whenever an object is created / instantiated, so we can use this property of the `__init__` method to store data that is passed into the object while creating it\n",
    "\n",
    "<br />\n",
    "\n",
    "* To understand the idea lets look at the class definition below, we create a class `Message` that has three methods defined inside the class definition as follows\n",
    "    \n",
    "    <br />\n",
    "    \n",
    "    + `__init__` : takes an argument `content` other than self and stores it in `self.content`\n",
    "    \n",
    "    <br />\n",
    "    \n",
    "    + `printMessage` : prints out the variable `content` to the console \n",
    "    \n",
    "    <br />\n",
    "    \n",
    "    + `printSelfMessage` : prints out the variable `self.content` to the console"
   ]
  },
  {
   "cell_type": "code",
   "execution_count": 74,
   "metadata": {},
   "outputs": [],
   "source": [
    "class Message:\n",
    "    \n",
    "    def __init__(self, content):\n",
    "        \n",
    "        self.content = content\n",
    "        \n",
    "    def printMessage(self):\n",
    "        \n",
    "        print(content)\n",
    "        \n",
    "    def printSelfMessage(self):\n",
    "        \n",
    "        print(self.content)"
   ]
  },
  {
   "cell_type": "markdown",
   "metadata": {},
   "source": [
    "* Let's create an object `newMsg` of the class `Message`\n",
    "\n",
    "<br />\n",
    "\n",
    "* Since the `__init__` method takes the second argument `content` other than `self`, if we do not pass in the `content` argument while initializing the code will throw an error "
   ]
  },
  {
   "cell_type": "code",
   "execution_count": 81,
   "metadata": {},
   "outputs": [],
   "source": [
    "newMsg = Message(content = 'Hey how are you?')"
   ]
  },
  {
   "cell_type": "markdown",
   "metadata": {},
   "source": [
    "### Understanding Object / Instance Variables\n",
    "\n",
    "<br />\n",
    "\n",
    "* `printMessage()` vs `printSelfMessage()`\n",
    "\n",
    "<br />\n",
    "\n",
    "* From the below output we can see that `printMessage()` throws an error as it cannot find the `message` variable which was passed into the object while initializing (passed as an argument to `__init__`)"
   ]
  },
  {
   "cell_type": "code",
   "execution_count": 72,
   "metadata": {
    "scrolled": false
   },
   "outputs": [
    {
     "ename": "NameError",
     "evalue": "name 'message' is not defined",
     "output_type": "error",
     "traceback": [
      "\u001b[0;31m---------------------------------------------------------------------------\u001b[0m",
      "\u001b[0;31mNameError\u001b[0m                                 Traceback (most recent call last)",
      "\u001b[0;32m<ipython-input-72-a6dd7edd9bfa>\u001b[0m in \u001b[0;36m<module>\u001b[0;34m()\u001b[0m\n\u001b[0;32m----> 1\u001b[0;31m \u001b[0mnewMsg\u001b[0m\u001b[0;34m.\u001b[0m\u001b[0mprintMessage\u001b[0m\u001b[0;34m(\u001b[0m\u001b[0;34m)\u001b[0m\u001b[0;34m\u001b[0m\u001b[0m\n\u001b[0m",
      "\u001b[0;32m<ipython-input-70-d7c1e8157391>\u001b[0m in \u001b[0;36mprintMessage\u001b[0;34m(self)\u001b[0m\n\u001b[1;32m      7\u001b[0m     \u001b[0;32mdef\u001b[0m \u001b[0mprintMessage\u001b[0m\u001b[0;34m(\u001b[0m\u001b[0mself\u001b[0m\u001b[0;34m)\u001b[0m\u001b[0;34m:\u001b[0m\u001b[0;34m\u001b[0m\u001b[0m\n\u001b[1;32m      8\u001b[0m \u001b[0;34m\u001b[0m\u001b[0m\n\u001b[0;32m----> 9\u001b[0;31m         \u001b[0mprint\u001b[0m\u001b[0;34m(\u001b[0m\u001b[0mmessage\u001b[0m\u001b[0;34m)\u001b[0m\u001b[0;34m\u001b[0m\u001b[0m\n\u001b[0m\u001b[1;32m     10\u001b[0m \u001b[0;34m\u001b[0m\u001b[0m\n\u001b[1;32m     11\u001b[0m     \u001b[0;32mdef\u001b[0m \u001b[0mprintSelfMessage\u001b[0m\u001b[0;34m(\u001b[0m\u001b[0mself\u001b[0m\u001b[0;34m)\u001b[0m\u001b[0;34m:\u001b[0m\u001b[0;34m\u001b[0m\u001b[0m\n",
      "\u001b[0;31mNameError\u001b[0m: name 'message' is not defined"
     ]
    }
   ],
   "source": [
    "newMsg.printMessage()"
   ]
  },
  {
   "cell_type": "markdown",
   "metadata": {},
   "source": [
    "* The `printSelfMessage()` method in contrast works as expected"
   ]
  },
  {
   "cell_type": "code",
   "execution_count": 73,
   "metadata": {},
   "outputs": [
    {
     "name": "stdout",
     "output_type": "stream",
     "text": [
      "Hey how are you?\n"
     ]
    }
   ],
   "source": [
    "newMsg.printSelfMessage()"
   ]
  },
  {
   "cell_type": "markdown",
   "metadata": {},
   "source": [
    "* So, whenever you want some data to be stored in your object so that other methods get access to it, ensure that it is assigned to `self` as \n",
    "            \n",
    "                              self.variableName = importantValueToStore\n",
    "                              \n",
    "<br />\n",
    "\n",
    "* We can take a look at all the variables stored in the object using the `vars()` function"
   ]
  },
  {
   "cell_type": "code",
   "execution_count": 84,
   "metadata": {},
   "outputs": [
    {
     "data": {
      "text/plain": [
       "{'content': 'Hey how are you?'}"
      ]
     },
     "execution_count": 84,
     "metadata": {},
     "output_type": "execute_result"
    }
   ],
   "source": [
    "vars(newMsg)"
   ]
  },
  {
   "cell_type": "markdown",
   "metadata": {},
   "source": [
    "* These varibles are known as __fields__\n",
    "\n",
    "<br />\n",
    "\n",
    "* __Fields (variables)__ and __Methods (functions)__ together are the __Attributes__ of an object "
   ]
  },
  {
   "cell_type": "markdown",
   "metadata": {},
   "source": [
    "### Understanding Classes, Objects, Methods, Fields and Attributes with a rigorous example\n",
    "\n",
    "<br />\n",
    "\n",
    "* __Class:__ As seen from the sections above, a class is essentially a more coherent collection of functions and variables\n",
    "\n",
    "<br />\n",
    "\n",
    "* __Objects:__ Any class definitions with a `ClassName` can be used to create an object using`ClassName()`. These programming constructs are instances of the `Class`\n",
    "\n",
    "<br />\n",
    "\n",
    "* __Methods:__ The functions present in the body of the class definition\n",
    "\n",
    "<br />\n",
    "\n",
    "* __Fields:__ The variables stored inside the object (self) \n",
    "\n",
    "<br />\n",
    "\n",
    "* __Attributes:__ Both the fields and methods of an object are called the attributes of an object \n"
   ]
  },
  {
   "cell_type": "markdown",
   "metadata": {},
   "source": [
    "### Code Walkthrough\n",
    "\n",
    "* Let's create a __class__ for a circle, that takes input while initialization as the radius; Add methods for computing the circumference and area of the circle"
   ]
  },
  {
   "cell_type": "code",
   "execution_count": 94,
   "metadata": {},
   "outputs": [],
   "source": [
    "class Circle:\n",
    "    def __init__(self, radius):\n",
    "        self.radius = radius\n",
    "        \n",
    "    def computeArea(self):\n",
    "        return 3.14 *((self.radius)**2)\n",
    "    \n",
    "    def computeCircumference(self):\n",
    "        return 2 * 3.14 * self.radius"
   ]
  },
  {
   "cell_type": "code",
   "execution_count": 95,
   "metadata": {},
   "outputs": [],
   "source": [
    "circleOne = Circle(radius = 4)"
   ]
  },
  {
   "cell_type": "code",
   "execution_count": 96,
   "metadata": {},
   "outputs": [
    {
     "data": {
      "text/plain": [
       "50.24"
      ]
     },
     "execution_count": 96,
     "metadata": {},
     "output_type": "execute_result"
    }
   ],
   "source": [
    "circleOne.computeArea()"
   ]
  },
  {
   "cell_type": "code",
   "execution_count": 97,
   "metadata": {},
   "outputs": [
    {
     "data": {
      "text/plain": [
       "25.12"
      ]
     },
     "execution_count": 97,
     "metadata": {},
     "output_type": "execute_result"
    }
   ],
   "source": [
    "circleOne.computeCircumference()"
   ]
  },
  {
   "cell_type": "code",
   "execution_count": 98,
   "metadata": {},
   "outputs": [
    {
     "data": {
      "text/plain": [
       "{'radius': 4}"
      ]
     },
     "execution_count": 98,
     "metadata": {},
     "output_type": "execute_result"
    }
   ],
   "source": [
    "vars(circleOne)"
   ]
  },
  {
   "cell_type": "markdown",
   "metadata": {},
   "source": [
    "### Exercise 3:\n",
    "\n",
    "* Write a Python class named Rectangle constructed by a length and width and a method which will compute the area of a rectangle\n"
   ]
  },
  {
   "cell_type": "code",
   "execution_count": null,
   "metadata": {},
   "outputs": [],
   "source": []
  },
  {
   "cell_type": "markdown",
   "metadata": {},
   "source": [
    "### Conclusion\n",
    "\n",
    "We finally have decent exposure to the terms for understanding OOP in python, with these skills we can start diving into the data science tools in python"
   ]
  }
 ],
 "metadata": {
  "kernelspec": {
   "display_name": "Python 3",
   "language": "python",
   "name": "python3"
  },
  "language_info": {
   "codemirror_mode": {
    "name": "ipython",
    "version": 3
   },
   "file_extension": ".py",
   "mimetype": "text/x-python",
   "name": "python",
   "nbconvert_exporter": "python",
   "pygments_lexer": "ipython3",
   "version": "3.6.5"
  }
 },
 "nbformat": 4,
 "nbformat_minor": 2
}
