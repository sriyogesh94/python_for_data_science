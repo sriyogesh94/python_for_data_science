{
 "cells": [
  {
   "cell_type": "markdown",
   "metadata": {},
   "source": [
    "<h1 style=\"text-align: center;\"> Introduction to the Data Science Ecosystem in Python </h1>\n",
    "\n",
    "<br />\n",
    "\n",
    "* Python is a general purpose programming language unlike R, so the design of the language was to fit general computing needs\n",
    "\n",
    "<br />\n",
    "\n",
    "* Data Science, Statistics and Machine Learning have specific workloads that do well with specialized data structures and computational frameworks\n",
    "\n",
    "<br />\n",
    "\n",
    "* This is where packages such as __numpy, pandas, matplotlib, sklearn, etc.__ come into picture"
   ]
  },
  {
   "cell_type": "markdown",
   "metadata": {},
   "source": [
    "<img src='img/python_data_science.png' />"
   ]
  },
  {
   "cell_type": "markdown",
   "metadata": {},
   "source": [
    "## Anaconda\n",
    "\n",
    "<br />\n",
    "\n",
    "* Anaconda is an open source distribution of python that is bundled with most of the packages required for the data science workload such as numpy, pandas, etc.\n",
    "\n",
    "<br />\n",
    "\n",
    "* It is hard to manage compatibility of various packages and versions of python, Anaconda mitigates that problem\n",
    "\n",
    "<br />\n",
    "\n",
    "* It also comes with various code editors such as __Jupyter Notebooks and Spyder__, which help us perform data analysis\n",
    "\n",
    "<br />\n",
    "\n",
    "* Anaconda also has advanced feautres such as __virtual environments__ (to help install different packages for different workloads in the same machine) and __patform independent package manager (conda)__\n",
    "\n",
    "<br />\n",
    "\n",
    "* The Anaconda cheat sheet can be found [here](https://docs.continuum.io/_downloads/Anaconda_CheatSheet.pdf)\n",
    "\n",
    "<br />\n",
    "\n",
    "<img src='img/anaconda_jupyter.jpg'  width='350px' height='600px'/>\n"
   ]
  },
  {
   "cell_type": "markdown",
   "metadata": {},
   "source": [
    "### Miniconda\n",
    "\n",
    "<br />\n",
    "\n",
    "__Miniconda__ is a smaller alternative distribution of Anaconda that strips away all the data science packages, code editors and only comes with the bare essentials of Python, conda package manager and a few other utilities\n",
    "\n",
    "\n",
    "<img src='img/minconda_vs_conda.jpg' />"
   ]
  },
  {
   "cell_type": "markdown",
   "metadata": {},
   "source": [
    "## Conda\n",
    "\n",
    "<br />\n",
    "\n",
    "* __Conda__ is a command line tool for environment and package management without the necessity for admin privileges on computer\n",
    "\n",
    "<br />\n",
    "\n",
    "* Manage independet environments easily without conflicts (Have a Python 2 as well as Python 3 installed on the same machine)\n",
    "\n",
    "<br />\n",
    "\n",
    "* Manage multiple installations of Python with different packages for different workloads to avoid conflicts (Python 3 with a set of packages for data science and another instace of Python 3 with a set of packages for deploying applications can exist on the same machine without conflicts)\n",
    "\n",
    "<br />\n",
    "\n",
    "* We won't be talking more about conda at this point, but the cheat sheet can be found [here](https://conda.io/docs/_downloads/conda-cheatsheet.pdf)"
   ]
  },
  {
   "cell_type": "markdown",
   "metadata": {},
   "source": [
    "## IPython vs Python\n",
    "\n",
    "<br /> \n",
    "\n",
    "* The __Interactive Python (IPython) shell__ has great syntax highlighting and Tab completion to help write code faster and cleaner from the shell\n"
   ]
  },
  {
   "cell_type": "markdown",
   "metadata": {},
   "source": [
    "<img src='img/python_vs_ipython_shell.gif' />"
   ]
  },
  {
   "cell_type": "markdown",
   "metadata": {},
   "source": [
    "* IPython has great __history management__\n",
    "\n",
    "<br />\n",
    "\n",
    "* All the inputs and outputs to the shell are maintained in two variables `In` and `Out` as demonstrated below"
   ]
  },
  {
   "cell_type": "markdown",
   "metadata": {},
   "source": [
    "<img src='img/ipython_input_output_history.png' />"
   ]
  },
  {
   "cell_type": "markdown",
   "metadata": {},
   "source": [
    "* The IPython shell also allows access to the help using `?`"
   ]
  },
  {
   "cell_type": "markdown",
   "metadata": {},
   "source": [
    "<img src='img/ipython_help.png' />"
   ]
  },
  {
   "cell_type": "markdown",
   "metadata": {},
   "source": [
    "## Jupyter Notebook\n",
    "\n",
    "<br /> \n",
    "\n",
    "* Jupyter Notebook was initially a HTML based frontend for the IPython shell initially named __IPython Notebooks (ipynb)__\n",
    "\n",
    "<br />\n",
    "\n",
    "* The project however evolved in 2015 to support many other kernels including R, Scala, Go, etc. at which point it was renamed to __Jupyter Notebooks__\n",
    "\n",
    "<br />\n",
    "\n",
    "* Jupyter Notebooks follow the idea of __literate programming__\n",
    "\n",
    "<br />\n",
    "\n",
    "* Code can be written along with __rich text (markdown), images, latex math and interactive visualisations__ making it the preferred tool for data scientists to work on and share reproducible data analysis experiments\n",
    "\n",
    "<br />\n",
    "\n",
    "* Learn more about Jupyter Notebooks [here](./04_Intro_to_Jupyter_Notebooks.ipynb)\n",
    "\n",
    "<br />\n",
    "\n",
    "<img src='img/jupyter_notebooks.png' width='700 px'/>"
   ]
  },
  {
   "cell_type": "markdown",
   "metadata": {},
   "source": [
    "## Scientific Computing Packages in Python\n",
    "\n",
    "<br /> \n",
    "\n",
    "* __Numpy:__ A module that gives access to the N-Dimensional arrays with fast vectorised computation using C\n",
    "\n",
    "<br />\n",
    "\n",
    "* __Pandas:__ Built on top of Numpy, this module gives access to the __Data Frame__, the core data structure used for data analysis\n",
    "\n",
    "<br />\n",
    "\n",
    "* __Matplotlib:__ Matplotlib is the core plotting library in python that helps visualise data\n",
    "\n",
    "<br />\n",
    "\n",
    "* __SciPy:__ The SciPy module gives access to scientific and statistical operations and tests\n",
    "\n",
    "<br />\n",
    "\n",
    "* __Scikit Learn (sklearn):__ The sklearn module gives access to a lot of machine learning algorithms as well as a lot of utility functions used in the data science pipeline\n"
   ]
  }
 ],
 "metadata": {
  "kernelspec": {
   "display_name": "Python 3",
   "language": "python",
   "name": "python3"
  },
  "language_info": {
   "codemirror_mode": {
    "name": "ipython",
    "version": 3
   },
   "file_extension": ".py",
   "mimetype": "text/x-python",
   "name": "python",
   "nbconvert_exporter": "python",
   "pygments_lexer": "ipython3",
   "version": "3.6.5"
  }
 },
 "nbformat": 4,
 "nbformat_minor": 2
}
