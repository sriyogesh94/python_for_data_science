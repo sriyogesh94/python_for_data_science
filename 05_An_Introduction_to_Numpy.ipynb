{
 "cells": [
  {
   "cell_type": "markdown",
   "metadata": {
    "collapsed": true
   },
   "source": [
    "<h1 style=\"text-align: center;\"> An Introduction to Numpy </h1>\n",
    "\n",
    "## Why do we need Numpy?\n",
    "\n",
    "<br />\n",
    "\n",
    "* __Vectors, Matrices and linear algebra operations__ are fundamental to Machine Learning and Data Science\n",
    "\n",
    "<br />\n",
    "\n",
    "* Vectors can be represented as lists `[2, 3, 2]` and matrices can be represented as a __list of lists__ `[[1, 1, 1], [2, 2, 2]]`\n",
    "\n",
    "<br />\n",
    "\n",
    "* Python lists seem like a reasonable data structure to use for the above use case, let's take a look at it\n",
    "\n",
    "<br />\n",
    "\n",
    "* Let's perform the basic operation of a vector addition and see the __performance difference between lists and numpy arrays__\n",
    "\n",
    "<br />\n",
    "\n",
    "* Before we proceed, let's import the numpy library and it is an __accepted convention to use the `np` alias for `numpy`__"
   ]
  },
  {
   "cell_type": "code",
   "execution_count": 3,
   "metadata": {},
   "outputs": [],
   "source": [
    "import numpy as np"
   ]
  },
  {
   "cell_type": "markdown",
   "metadata": {},
   "source": [
    "* Let us create __two lists and two arrays__ for our experiment"
   ]
  },
  {
   "cell_type": "code",
   "execution_count": 9,
   "metadata": {},
   "outputs": [],
   "source": [
    "# The * operator on the list replicates the items in a list, n number of times given list * n \n",
    "\n",
    "example_list_one = [1, 2, 3, 4] * 1000\n",
    "\n",
    "example_list_two = [4, 3, 2, 1] * 1000\n",
    "\n",
    "# We'll look at the code given here later, but for now understand that numpy arrays can be created from python lists\n",
    "\n",
    "example_array_one = np.array(example_list_one)\n",
    "\n",
    "example_array_two = np.array(example_list_two)"
   ]
  },
  {
   "cell_type": "markdown",
   "metadata": {},
   "source": [
    "* Below, is a function that performs a vector addition on two lists of equal length"
   ]
  },
  {
   "cell_type": "code",
   "execution_count": 15,
   "metadata": {},
   "outputs": [
    {
     "data": {
      "text/plain": [
       "array([ 1.,  1., nan,  0.])"
      ]
     },
     "execution_count": 15,
     "metadata": {},
     "output_type": "execute_result"
    }
   ],
   "source": [
    "np.array([1, 1, np.nan, 0], dtype=np.float64)"
   ]
  },
  {
   "cell_type": "code",
   "execution_count": 10,
   "metadata": {},
   "outputs": [],
   "source": [
    "def vector_addition(vector_one, vector_two):\n",
    "    \n",
    "    new_vec = []\n",
    "    \n",
    "    for i in range(len(vector_one)):\n",
    "        \n",
    "        new_vec.append(vector_one[i] + vector_two[i])\n",
    "        \n",
    "    return new_vec"
   ]
  },
  {
   "cell_type": "markdown",
   "metadata": {},
   "source": [
    "* The `%%timeit` IPython magic command gives an approximate runtime of the code in a cell"
   ]
  },
  {
   "cell_type": "code",
   "execution_count": 11,
   "metadata": {
    "scrolled": true
   },
   "outputs": [
    {
     "name": "stdout",
     "output_type": "stream",
     "text": [
      "489 µs ± 6.12 µs per loop (mean ± std. dev. of 7 runs, 1000 loops each)\n"
     ]
    }
   ],
   "source": [
    "%%timeit\n",
    "\n",
    "vector_addition(example_list_one, example_list_two)\n"
   ]
  },
  {
   "cell_type": "code",
   "execution_count": 12,
   "metadata": {},
   "outputs": [
    {
     "name": "stdout",
     "output_type": "stream",
     "text": [
      "2.2 µs ± 29.4 ns per loop (mean ± std. dev. of 7 runs, 100000 loops each)\n"
     ]
    }
   ],
   "source": [
    "%%timeit\n",
    "\n",
    "example_array_one + example_array_two\n"
   ]
  },
  {
   "cell_type": "markdown",
   "metadata": {},
   "source": [
    "* From the above experiment we can see that __using numpy arrays__ for even a simple vector addition is __more than 200 times faster compared to a list__\n",
    "\n",
    "<br />\n",
    "\n",
    "* We need Numpy arrays for:\n",
    "\n",
    "<br />\n",
    "\n",
    "    * Representing Vectors and Matrices as datastrcutures ready for manipulation in python\n",
    "    \n",
    "<br />\n",
    "    \n",
    "    * Access to fast vectorised operations (will be elaborated later)\n",
    "    \n",
    "<br />\n",
    "    \n",
    "    * Access to linear algebra operations, numpy has access to many linear algebra operations"
   ]
  },
  {
   "cell_type": "markdown",
   "metadata": {},
   "source": [
    "## So, what is a numpy array anyway?\n",
    "\n",
    "<br />\n",
    "\n",
    "* A numpy array is a highly efficient implementation of the n dimensional array and unlike a python list contains only elements of a single data type\n",
    "\n",
    "<br />\n",
    "\n",
    "* All the elements in a numpy array are of the __same data type__, leading for efficient storage of the values in the array as a __contiguous block in memory__ for fast access to the elements whereas Python lists store pointers to where each element is stored increasing the time consumed to access an element\n",
    "\n",
    "<br />\n",
    "\n",
    "* Numpy also has bindings with C/C++/Fortran for fast and speedy linear algebra computation using the low level bindings on the numpy arrays"
   ]
  },
  {
   "cell_type": "markdown",
   "metadata": {},
   "source": [
    "<img src='img/numpy_arrays.png' width='600px'/>"
   ]
  },
  {
   "cell_type": "markdown",
   "metadata": {},
   "source": [
    "## Data types supported by Numpy\n",
    "\n",
    "* Numpy supports the following data types int, float, string ,etc.\n",
    "\n",
    "![](img/numpy_dtypes.jpg)\n",
    "\n",
    "<img src='' />\n"
   ]
  },
  {
   "cell_type": "code",
   "execution_count": 11,
   "metadata": {},
   "outputs": [
    {
     "data": {
      "text/plain": [
       "numpy.int32"
      ]
     },
     "execution_count": 11,
     "metadata": {},
     "output_type": "execute_result"
    }
   ],
   "source": [
    "np.int32"
   ]
  },
  {
   "cell_type": "code",
   "execution_count": 12,
   "metadata": {},
   "outputs": [
    {
     "data": {
      "text/plain": [
       "numpy.float64"
      ]
     },
     "execution_count": 12,
     "metadata": {},
     "output_type": "execute_result"
    }
   ],
   "source": [
    "np.float64"
   ]
  },
  {
   "cell_type": "markdown",
   "metadata": {},
   "source": [
    "### Missing and Special Data Types\n",
    "\n",
    "* Numpy also has access to special data types such as `np.nan`, `np.inf`, etc."
   ]
  },
  {
   "cell_type": "code",
   "execution_count": 6,
   "metadata": {},
   "outputs": [
    {
     "data": {
      "text/plain": [
       "True"
      ]
     },
     "execution_count": 6,
     "metadata": {},
     "output_type": "execute_result"
    }
   ],
   "source": [
    "np.isnan(np.nan)"
   ]
  },
  {
   "cell_type": "markdown",
   "metadata": {},
   "source": [
    "* `np.nan` is used to encode missing values in both numpy as well as pandas\n",
    "\n",
    "<br />\n",
    "\n",
    "* It is important to remember that `np.nan` can only exist in floting point arrays and cannot exist in integer or boolean arrays as the implementation type of `np.nan` is `float`; `pasndas 2.0` will alleviate this issue"
   ]
  },
  {
   "cell_type": "code",
   "execution_count": 7,
   "metadata": {},
   "outputs": [
    {
     "data": {
      "text/plain": [
       "float"
      ]
     },
     "execution_count": 7,
     "metadata": {},
     "output_type": "execute_result"
    }
   ],
   "source": [
    "type(np.nan)"
   ]
  },
  {
   "cell_type": "markdown",
   "metadata": {},
   "source": [
    "## Creating Numpy Arrays\n",
    "\n",
    "<img src='img/numpy_array_creation.jpg' width='650px'/>\n",
    "\n",
    "* `np.array()`\n",
    "\n",
    "* `np.zeroes()`\n",
    "\n",
    "* `np.arange()`"
   ]
  },
  {
   "cell_type": "markdown",
   "metadata": {},
   "source": [
    "* Using the `np.array()` function let us create a numpy array from a python list"
   ]
  },
  {
   "cell_type": "code",
   "execution_count": 14,
   "metadata": {},
   "outputs": [
    {
     "data": {
      "text/plain": [
       "array([ 12, 200,  82])"
      ]
     },
     "execution_count": 14,
     "metadata": {},
     "output_type": "execute_result"
    }
   ],
   "source": [
    "firstArray = np.array([12, 200, 82])\n",
    "\n",
    "firstArray"
   ]
  },
  {
   "cell_type": "markdown",
   "metadata": {},
   "source": [
    "* Using the `np.arange()` function let us create a numpy array containing elements from 0 to 15"
   ]
  },
  {
   "cell_type": "code",
   "execution_count": 16,
   "metadata": {},
   "outputs": [
    {
     "data": {
      "text/plain": [
       "array([ 0,  1,  2,  3,  4,  5,  6,  7,  8,  9, 10, 11, 12, 13, 14, 15])"
      ]
     },
     "execution_count": 16,
     "metadata": {},
     "output_type": "execute_result"
    }
   ],
   "source": [
    "np.arange(16)"
   ]
  },
  {
   "cell_type": "markdown",
   "metadata": {},
   "source": [
    "* Functions that allow us to prepopulate values in a numpy array also mostly have the ability for us to define the `shape of a numpy array`"
   ]
  },
  {
   "cell_type": "markdown",
   "metadata": {},
   "source": [
    "## Attributes of a Numpy Array\n",
    "\n",
    "### Data Type of the numpy array\n",
    "\n",
    "* As we saw above, numpy has special datatypes implemented in it's library\n",
    "\n",
    "<br />\n",
    "\n",
    "* We can use those data types to create numpy arrays, with the only limitation being that the array has to be homogenous\n",
    "\n",
    "<br />\n",
    "\n",
    "* Let us see a few examples below"
   ]
  },
  {
   "cell_type": "code",
   "execution_count": 5,
   "metadata": {},
   "outputs": [
    {
     "data": {
      "text/plain": [
       "dtype('int32')"
      ]
     },
     "execution_count": 5,
     "metadata": {},
     "output_type": "execute_result"
    }
   ],
   "source": [
    "# We can convert any python list into a numpy array\n",
    "\n",
    "first_array = np.array([1, 2, 3], dtype = 'int32')\n",
    "\n",
    "first_array.dtype"
   ]
  },
  {
   "cell_type": "markdown",
   "metadata": {},
   "source": [
    "## The shape of a numpy array\n",
    "\n",
    "* __This is a very important concept__\n",
    "\n",
    "* Every numpy array has an attribute called shape\n",
    "\n",
    "* For a python list, that is converted into a numpy array, the shape is __(number_of_elements,)__\n",
    "\n",
    "* For the numpy array values stored inside a pandas data frame, the shape is __(nrows, ncols)__\n",
    "\n",
    "* The shape of a numpy array is stored as a tuple\n"
   ]
  },
  {
   "cell_type": "code",
   "execution_count": 10,
   "metadata": {
    "scrolled": true
   },
   "outputs": [
    {
     "name": "stdout",
     "output_type": "stream",
     "text": [
      "()\n"
     ]
    },
    {
     "data": {
      "text/plain": [
       "array(1)"
      ]
     },
     "execution_count": 10,
     "metadata": {},
     "output_type": "execute_result"
    }
   ],
   "source": [
    "# Shape of a single element\n",
    "\n",
    "numpy_element = np.array(1)\n",
    "\n",
    "print(numpy_element.shape)\n",
    "\n",
    "numpy_element"
   ]
  },
  {
   "cell_type": "markdown",
   "metadata": {},
   "source": [
    "__For the one dimensional array the returned shape is (number_of_elements,)__"
   ]
  },
  {
   "cell_type": "code",
   "execution_count": 11,
   "metadata": {
    "scrolled": true
   },
   "outputs": [
    {
     "name": "stdout",
     "output_type": "stream",
     "text": [
      "(6,)\n"
     ]
    },
    {
     "data": {
      "text/plain": [
       "array([1, 2, 3, 4, 5, 6])"
      ]
     },
     "execution_count": 11,
     "metadata": {},
     "output_type": "execute_result"
    }
   ],
   "source": [
    "# Shape of a one dimensional array\n",
    "\n",
    "numpy_one_dim = np.array([1, 2, 3, 4, 5, 6])\n",
    "\n",
    "print(numpy_one_dim.shape)\n",
    "\n",
    "numpy_one_dim"
   ]
  },
  {
   "cell_type": "markdown",
   "metadata": {},
   "source": [
    "__For the two dimensional array (like a matrix) the returned shape is (nrows, ncols)__"
   ]
  },
  {
   "cell_type": "code",
   "execution_count": 15,
   "metadata": {
    "scrolled": true
   },
   "outputs": [
    {
     "name": "stdout",
     "output_type": "stream",
     "text": [
      "(2, 6)\n"
     ]
    },
    {
     "data": {
      "text/plain": [
       "array([[ 1,  2,  3,  4,  5,  6],\n",
       "       [11, 22, 33, 44, 55, 66]])"
      ]
     },
     "execution_count": 15,
     "metadata": {},
     "output_type": "execute_result"
    }
   ],
   "source": [
    "# Shape of a one dimensional array\n",
    "\n",
    "numpy_two_dim = np.array([\n",
    "                            [1, 2, 3, 4, 5, 6],\n",
    "                            [11, 22, 33, 44, 55, 66]\n",
    "                         ])\n",
    "\n",
    "print(numpy_two_dim.shape)\n",
    "\n",
    "numpy_two_dim"
   ]
  },
  {
   "cell_type": "markdown",
   "metadata": {},
   "source": [
    "## Let's go deeper and generalize it"
   ]
  },
  {
   "cell_type": "markdown",
   "metadata": {},
   "source": [
    "Even though it might not be an accurate informalisation of the idea, you can in general think about the shape of arrays as \n",
    "\n",
    "* __(num_arrays_outermost, num_arrays_next, ......, num_elements_in_the_last_array)__"
   ]
  },
  {
   "cell_type": "markdown",
   "metadata": {},
   "source": [
    "### Let's break this down for a three dimensional array"
   ]
  },
  {
   "cell_type": "code",
   "execution_count": 16,
   "metadata": {},
   "outputs": [
    {
     "name": "stdout",
     "output_type": "stream",
     "text": [
      "(2, 3, 6)\n"
     ]
    },
    {
     "data": {
      "text/plain": [
       "array([[[   1,    2,    3,    4,    5,    6],\n",
       "        [  11,   22,   33,   44,   55,   66],\n",
       "        [ 111,  222,  333,  444,  555,  666]],\n",
       "\n",
       "       [[  21,   22,   23,   24,   25,   26],\n",
       "        [ 221,  222,  233,  244,  255,  266],\n",
       "        [2211, 2222, 2333, 2444, 2555, 2666]]])"
      ]
     },
     "execution_count": 16,
     "metadata": {},
     "output_type": "execute_result"
    }
   ],
   "source": [
    "# Shape of a three dimensional array\n",
    "\n",
    "numpy_three_dim = np.array([\n",
    "                            [\n",
    "                                [1, 2, 3, 4, 5, 6],\n",
    "                                [11, 22, 33, 44, 55, 66],\n",
    "                                [111, 222, 333, 444, 555, 666]\n",
    "                            ],\n",
    "                            [\n",
    "                                [21, 22, 23, 24, 25, 26],\n",
    "                                [221, 222, 233, 244, 255, 266],\n",
    "                                [2211, 2222, 2333, 2444, 2555, 2666]\n",
    "                            ]\n",
    "                         ])\n",
    "\n",
    "print(numpy_three_dim.shape)\n",
    "\n",
    "numpy_three_dim"
   ]
  },
  {
   "cell_type": "markdown",
   "metadata": {},
   "source": [
    "### Why is the shape of the array (2, 3, 6)?"
   ]
  },
  {
   "cell_type": "raw",
   "metadata": {},
   "source": [
    "# The first element in the shape tuple (2, 3, 6) comes from the following\n",
    "\n",
    "        [\n",
    "        \n",
    "            [outermost array one],\n",
    "            \n",
    "            [outermost array two]\n",
    "        \n",
    "        ]\n",
    "        \n",
    "--> The above two arrays help talk about the first dimension in the shape tuple\n",
    "\n",
    "# The second element in the shape tuple (2, 3, 6) comes from the following\n",
    "\n",
    "        [\n",
    "        \n",
    "            [   outer most array one\n",
    "            \n",
    "                [next outermost array one],\n",
    "                \n",
    "                [next outermost array two],\n",
    "                \n",
    "                [next outermost array three]\n",
    "            \n",
    "            ],\n",
    "            \n",
    "            [   outer most array two\n",
    "            \n",
    "                [next outermost array one],\n",
    "                \n",
    "                [next outermost array two],\n",
    "                \n",
    "                [next outermost array three]\n",
    "            \n",
    "            ]\n",
    "        \n",
    "        ]\n",
    "        \n",
    "--> The above three arrays help talk about the second dimension in the shape tuple\n",
    "\n",
    "# The third element in the shape tuple (2, 3, 6) comes from the following\n",
    "\n",
    "        [\n",
    "        \n",
    "            [   outer most array one\n",
    "            \n",
    "                [  next outermost array one\n",
    "                \n",
    "                    element one,\n",
    "                    \n",
    "                    element two,\n",
    "                    \n",
    "                    element three,\n",
    "                    \n",
    "                    element four,\n",
    "                    \n",
    "                    element five,\n",
    "                    \n",
    "                    element sixe\n",
    "                \n",
    "                ],\n",
    "                \n",
    "                [  next outermost array two\n",
    "                \n",
    "                    element one,\n",
    "                    \n",
    "                    element two,\n",
    "                    \n",
    "                    element three,\n",
    "                    \n",
    "                    element four,\n",
    "                    \n",
    "                    element five,\n",
    "                    \n",
    "                    element sixe\n",
    "                \n",
    "                ],\n",
    "                \n",
    "                [  next outermost array three\n",
    "                \n",
    "                    element one,\n",
    "                    \n",
    "                    element two,\n",
    "                    \n",
    "                    element three,\n",
    "                    \n",
    "                    element four,\n",
    "                    \n",
    "                    element five,\n",
    "                    \n",
    "                    element sixe\n",
    "                \n",
    "                ]\n",
    "            \n",
    "            ],\n",
    "            \n",
    "            [   outer most array two\n",
    "            \n",
    "                [  next outermost array one\n",
    "                \n",
    "                    element one,\n",
    "                    \n",
    "                    element two,\n",
    "                    \n",
    "                    element three,\n",
    "                    \n",
    "                    element four,\n",
    "                    \n",
    "                    element five,\n",
    "                    \n",
    "                    element sixe\n",
    "                \n",
    "                ],\n",
    "                \n",
    "                [  next outermost array two\n",
    "                \n",
    "                    element one,\n",
    "                    \n",
    "                    element two,\n",
    "                    \n",
    "                    element three,\n",
    "                    \n",
    "                    element four,\n",
    "                    \n",
    "                    element five,\n",
    "                    \n",
    "                    element sixe\n",
    "                \n",
    "                ],\n",
    "                \n",
    "                [  next outermost array three\n",
    "                \n",
    "                    element one,\n",
    "                    \n",
    "                    element two,\n",
    "                    \n",
    "                    element three,\n",
    "                    \n",
    "                    element four,\n",
    "                    \n",
    "                    element five,\n",
    "                    \n",
    "                    element sixe\n",
    "                \n",
    "                ]\n",
    "            \n",
    "            ]\n",
    "        \n",
    "        ]\n",
    "\n",
    "--> So, the final dimension in the shape tuple (2, 3, 6) talks about the number of elements"
   ]
  },
  {
   "cell_type": "raw",
   "metadata": {},
   "source": [
    "## Exercise: What is the shape of the following array?\n",
    "\n",
    "   [\n",
    "       [\n",
    "           [\n",
    "               [\n",
    "                   25, 23, 23, 222, 441\n",
    "               ],\n",
    "               \n",
    "               [\n",
    "                   25, 23, 23, 222, 441\n",
    "               ],\n",
    "               \n",
    "               [\n",
    "                   25, 23, 23, 222, 441\n",
    "               ]\n",
    "           ],\n",
    "           \n",
    "           [\n",
    "               [\n",
    "                   25, 23, 23, 222, 441\n",
    "               ],\n",
    "               \n",
    "               [\n",
    "                   25, 23, 23, 222, 441\n",
    "               ],\n",
    "               \n",
    "               [\n",
    "                   25, 23, 23, 222, 441\n",
    "               ]\n",
    "           ]\n",
    "       ]\n",
    "   ]"
   ]
  },
  {
   "cell_type": "markdown",
   "metadata": {},
   "source": [
    "## Indexing elements from a numpy array\n",
    "\n",
    "* --> Elements have to be indexed using the position of an element\n",
    "\n",
    "* --> __Indexing starts from 0__\n",
    "\n",
    "* --> We navigate through the numpy array using the __shape of the array__"
   ]
  },
  {
   "cell_type": "code",
   "execution_count": 25,
   "metadata": {},
   "outputs": [
    {
     "name": "stdout",
     "output_type": "stream",
     "text": [
      "\n",
      " The array has the following elements  --->  [1 2 3 4 5 6]\n",
      "\n",
      " Indexing Starts from 0  --> numpy_one_dim[0] -->  1\n",
      "\n",
      " Access any element using the position  --> numpy_one_dim[3] -->  4\n",
      "\n",
      " Access the last element using -1  --> numpy_one_dim[-1] -->  6\n",
      "\n",
      " Slice an array using start_pos:(end_pos + 1)  --> numpy_one_dim[-1] -->  [3 4 5] \n",
      "\n"
     ]
    }
   ],
   "source": [
    "## Indexing a one dimensional array works a lot like python lists\n",
    "\n",
    "print(\n",
    "    \n",
    "    \"\\n\",\n",
    "\n",
    "    \"The array has the following elements\",\n",
    "    \n",
    "    \" ---> \",\n",
    "    \n",
    "    numpy_one_dim\n",
    "\n",
    ")\n",
    "\n",
    "\n",
    "print(\n",
    "    \n",
    "    \"\\n\",\n",
    "    \n",
    "    \"Indexing Starts from 0\",\n",
    "    \n",
    "    \" --> numpy_one_dim[0] --> \",\n",
    "    \n",
    "    numpy_one_dim[0]\n",
    "\n",
    ")\n",
    "\n",
    "print(\n",
    "    \n",
    "    \"\\n\",\n",
    "    \n",
    "    \"Access any element using the position\",\n",
    "    \n",
    "    \" --> numpy_one_dim[3] --> \",\n",
    "    \n",
    "    numpy_one_dim[3]\n",
    "\n",
    ")\n",
    "\n",
    "print(\n",
    "    \n",
    "    \"\\n\",\n",
    "        \n",
    "    \"Access the last element using -1\",\n",
    "    \n",
    "    \" --> numpy_one_dim[-1] --> \",\n",
    "    \n",
    "    numpy_one_dim[-1]\n",
    "\n",
    ")\n",
    "\n",
    "print(\n",
    "    \n",
    "    \"\\n\",\n",
    "    \n",
    "    \"Slice an array using start_pos:(end_pos + 1)\",\n",
    "    \n",
    "    \" --> numpy_one_dim[-1] --> \",\n",
    "    \n",
    "    numpy_one_dim[2:-1],\n",
    "    \n",
    "    \"\\n\"\n",
    ")"
   ]
  },
  {
   "cell_type": "raw",
   "metadata": {},
   "source": [
    "## Indexing a two dimensional array\n",
    "\n",
    "* Everything from the above applies, with just one extension\n",
    "\n",
    "        -->  twodim_array[ first_element_shape_index, second_element_shape_index]\n",
    "        \n",
    "        \n",
    " numpy_two_dim = np.array([[ 1,  2,  3,  4,  5,  6], [11, 22, 33, 44, 55, 66]])\n",
    "        \n",
    "\n",
    "## From the numpy_two_dim array, if I want to extract 22, my thought process would follow\n",
    "\n",
    "    ---> Along the first dimension in the shape (2, 6), Where is the element of my choice?\n",
    "\n",
    "             It is in the second array, so my choice would be 1\n",
    "     \n",
    "    ---> Along the second dimension in the shape (2, 6), Where is the element of my choice?\n",
    "\n",
    "             It is in the second element, so my choice would be 1\n",
    "    \n",
    "                     numpy_two_dim[1, 1] ---> 22\n",
    "    \n",
    "\n",
    "## From the numpy_two_dim array, if I want to extract 4, my thought process would follow\n",
    "\n",
    "    ---> Along the first dimension in the shape (2, 6), Where is the element of my choice?\n",
    "\n",
    "             It is in the first array, so my choice would be 0\n",
    "     \n",
    "    ---> Along the second dimension in the shape (2, 6), Where is the element of my choice?\n",
    "\n",
    "             It is the fourth element, so my choice would be 3\n",
    "             \n",
    "                    numpy_two_dim[0, 3] ---> 22"
   ]
  },
  {
   "cell_type": "code",
   "execution_count": 26,
   "metadata": {},
   "outputs": [
    {
     "name": "stdout",
     "output_type": "stream",
     "text": [
      "[[ 1  2  3  4  5  6]\n",
      " [11 22 33 44 55 66]]\n"
     ]
    }
   ],
   "source": [
    "# Indexing a 2d array\n",
    "\n",
    "print(numpy_two_dim)"
   ]
  },
  {
   "cell_type": "raw",
   "metadata": {},
   "source": [
    "## Exercise: \n",
    "\n",
    "* --> Extract 33 from nupmy_two_dim\n",
    "\n",
    "* --> Extract 2333 from numpy_three_dim"
   ]
  },
  {
   "cell_type": "markdown",
   "metadata": {},
   "source": [
    "### Extracting Multiple Elements"
   ]
  },
  {
   "cell_type": "code",
   "execution_count": 39,
   "metadata": {},
   "outputs": [
    {
     "name": "stdout",
     "output_type": "stream",
     "text": [
      "[22 33 44]\n",
      "[11 22 33 44 55 66]\n"
     ]
    }
   ],
   "source": [
    "## We can extract multiple elements from an n dimensional array by passing in a list\n",
    "\n",
    "print(numpy_two_dim[ 1, [1, 2, 3]])\n",
    "\n",
    "# We can extract all elements from a particular dimension of a the shape by using :\n",
    "\n",
    "print(numpy_two_dim[ 1, :])"
   ]
  },
  {
   "cell_type": "markdown",
   "metadata": {},
   "source": [
    "## Reshaping numpy arrays\n"
   ]
  },
  {
   "cell_type": "raw",
   "metadata": {},
   "source": [
    "* Change the shape of a numpy array\n",
    "\n",
    "* This might be required a lot of times when dealing with deep learning\n",
    "\n",
    "* The most basic unit in an Array is an element\n",
    "\n",
    "* Reshpaing is only possible if the shape of the n dimensional array allows you to hold all the elements\n",
    "\n",
    "* Convert [ [2, 3, 4], [22, 33, 44] ] (shape (2,3)) to [2, 3, 4, 22, 33, 44]  (shape (6,))\n"
   ]
  },
  {
   "cell_type": "code",
   "execution_count": 43,
   "metadata": {},
   "outputs": [
    {
     "data": {
      "text/plain": [
       "array([[[   1,    2,    3,    4,    5,    6],\n",
       "        [  11,   22,   33,   44,   55,   66],\n",
       "        [ 111,  222,  333,  444,  555,  666]],\n",
       "\n",
       "       [[  21,   22,   23,   24,   25,   26],\n",
       "        [ 221,  222,  233,  244,  255,  266],\n",
       "        [2211, 2222, 2333, 2444, 2555, 2666]]])"
      ]
     },
     "execution_count": 43,
     "metadata": {},
     "output_type": "execute_result"
    }
   ],
   "source": [
    "numpy_three_dim"
   ]
  },
  {
   "cell_type": "code",
   "execution_count": 44,
   "metadata": {},
   "outputs": [
    {
     "data": {
      "text/plain": [
       "(2, 3, 6)"
      ]
     },
     "execution_count": 44,
     "metadata": {},
     "output_type": "execute_result"
    }
   ],
   "source": [
    "## Let's reshape numpy_three_dim to (9, 4)\n",
    "\n",
    "numpy_three_dim.shape"
   ]
  },
  {
   "cell_type": "code",
   "execution_count": 42,
   "metadata": {},
   "outputs": [
    {
     "data": {
      "text/plain": [
       "array([[   1,    2,    3,    4],\n",
       "       [   5,    6,   11,   22],\n",
       "       [  33,   44,   55,   66],\n",
       "       [ 111,  222,  333,  444],\n",
       "       [ 555,  666,   21,   22],\n",
       "       [  23,   24,   25,   26],\n",
       "       [ 221,  222,  233,  244],\n",
       "       [ 255,  266, 2211, 2222],\n",
       "       [2333, 2444, 2555, 2666]])"
      ]
     },
     "execution_count": 42,
     "metadata": {},
     "output_type": "execute_result"
    }
   ],
   "source": [
    "numpy_three_dim.reshape(9, 4)"
   ]
  },
  {
   "cell_type": "code",
   "execution_count": 48,
   "metadata": {},
   "outputs": [
    {
     "data": {
      "text/plain": [
       "array([[   1,    2,    3,    4],\n",
       "       [   5,    6,   11,   22],\n",
       "       [  33,   44,   55,   66],\n",
       "       [ 111,  222,  333,  444],\n",
       "       [ 555,  666,   21,   22],\n",
       "       [  23,   24,   25,   26],\n",
       "       [ 221,  222,  233,  244],\n",
       "       [ 255,  266, 2211, 2222],\n",
       "       [2333, 2444, 2555, 2666]])"
      ]
     },
     "execution_count": 48,
     "metadata": {},
     "output_type": "execute_result"
    }
   ],
   "source": [
    "## If you dont know about the size of one dimesion, you can use -1 to tell numpy to figure it out\n",
    "\n",
    "numpy_three_dim.reshape(9, -1)"
   ]
  },
  {
   "cell_type": "code",
   "execution_count": 47,
   "metadata": {},
   "outputs": [
    {
     "data": {
      "text/plain": [
       "array([   1,    2,    3,    4,    5,    6,   11,   22,   33,   44,   55,\n",
       "         66,  111,  222,  333,  444,  555,  666,   21,   22,   23,   24,\n",
       "         25,   26,  221,  222,  233,  244,  255,  266, 2211, 2222, 2333,\n",
       "       2444, 2555, 2666])"
      ]
     },
     "execution_count": 47,
     "metadata": {},
     "output_type": "execute_result"
    }
   ],
   "source": [
    "## The flatten method helps us get to a one dimensional numpy array\n",
    "\n",
    "numpy_three_dim.flatten()"
   ]
  },
  {
   "cell_type": "markdown",
   "metadata": {},
   "source": [
    "# Row array vs Column array"
   ]
  },
  {
   "cell_type": "markdown",
   "metadata": {},
   "source": [
    "## Important reshape note: Sometimes scikit-learn, a library we will use to do machine learning in python only accepts a column vector so knowing this stuff is important"
   ]
  },
  {
   "cell_type": "code",
   "execution_count": 49,
   "metadata": {},
   "outputs": [
    {
     "data": {
      "text/plain": [
       "(6,)"
      ]
     },
     "execution_count": 49,
     "metadata": {},
     "output_type": "execute_result"
    }
   ],
   "source": [
    "'''\n",
    "\n",
    "A one dimensional numpy array has only one number \n",
    "in it's shape so therefore it is neither a row vector, nor a column vector\n",
    "\n",
    "'''\n",
    "\n",
    "numpy_one_dim.shape"
   ]
  },
  {
   "cell_type": "code",
   "execution_count": 50,
   "metadata": {},
   "outputs": [
    {
     "data": {
      "text/plain": [
       "array([[1, 2, 3, 4, 5, 6]])"
      ]
     },
     "execution_count": 50,
     "metadata": {},
     "output_type": "execute_result"
    }
   ],
   "source": [
    "# To explicitly make it a row vector / array\n",
    "\n",
    "numpy_one_dim.reshape(1, 6)"
   ]
  },
  {
   "cell_type": "code",
   "execution_count": 51,
   "metadata": {},
   "outputs": [
    {
     "data": {
      "text/plain": [
       "array([[1],\n",
       "       [2],\n",
       "       [3],\n",
       "       [4],\n",
       "       [5],\n",
       "       [6]])"
      ]
     },
     "execution_count": 51,
     "metadata": {},
     "output_type": "execute_result"
    }
   ],
   "source": [
    "# To explicitly make it a column vector / array\n",
    "\n",
    "numpy_one_dim.reshape(6, 1)"
   ]
  },
  {
   "cell_type": "code",
   "execution_count": 52,
   "metadata": {},
   "outputs": [
    {
     "data": {
      "text/plain": [
       "array([[1],\n",
       "       [2],\n",
       "       [3],\n",
       "       [4],\n",
       "       [5],\n",
       "       [6]])"
      ]
     },
     "execution_count": 52,
     "metadata": {},
     "output_type": "execute_result"
    }
   ],
   "source": [
    "# We can also use -1 if we do not know the number of elements in the array to create a column vector\n",
    "\n",
    "numpy_one_dim.reshape(-1, 1)"
   ]
  },
  {
   "cell_type": "markdown",
   "metadata": {},
   "source": [
    "### Understanding Vectorized Operations in numpy through the demonstration of Min-Max scaling"
   ]
  },
  {
   "cell_type": "code",
   "execution_count": 1,
   "metadata": {},
   "outputs": [
    {
     "name": "stdout",
     "output_type": "stream",
     "text": [
      "[ 0  1  2  3  4  5  6  7  8  9 10 11 12 13 14 15 16 17 18 19 20 21 22 23\n",
      " 24 25 26 27 28 29 30 31 32 33 34 35 36 37 38 39 40 41 42 43 44 45 46 47\n",
      " 48 49 50 51 52 53 54 55 56 57 58 59 60 61 62 63 64 65 66 67 68 69 70 71\n",
      " 72 73 74 75 76 77 78 79 80 81 82 83 84 85 86 87 88 89 90 91 92 93 94 95\n",
      " 96 97 98 99]\n"
     ]
    }
   ],
   "source": [
    "# Create a numpy array that starts at 0 and end at 99\n",
    "\n",
    "A = np.arange(100)\n",
    "\n",
    "print(A)"
   ]
  },
  {
   "cell_type": "code",
   "execution_count": 2,
   "metadata": {},
   "outputs": [
    {
     "name": "stdout",
     "output_type": "stream",
     "text": [
      "99 0\n"
     ]
    }
   ],
   "source": [
    "Amax, Amin = A.max(), A.min()\n",
    "\n",
    "print(Amax, Amin)"
   ]
  },
  {
   "cell_type": "code",
   "execution_count": 4,
   "metadata": {},
   "outputs": [
    {
     "name": "stdout",
     "output_type": "stream",
     "text": [
      "[0.         0.01010101 0.02020202 0.03030303 0.04040404 0.05050505\n",
      " 0.06060606 0.07070707 0.08080808 0.09090909 0.1010101  0.11111111\n",
      " 0.12121212 0.13131313 0.14141414 0.15151515 0.16161616 0.17171717\n",
      " 0.18181818 0.19191919 0.2020202  0.21212121 0.22222222 0.23232323\n",
      " 0.24242424 0.25252525 0.26262626 0.27272727 0.28282828 0.29292929\n",
      " 0.3030303  0.31313131 0.32323232 0.33333333 0.34343434 0.35353535\n",
      " 0.36363636 0.37373737 0.38383838 0.39393939 0.4040404  0.41414141\n",
      " 0.42424242 0.43434343 0.44444444 0.45454545 0.46464646 0.47474747\n",
      " 0.48484848 0.49494949 0.50505051 0.51515152 0.52525253 0.53535354\n",
      " 0.54545455 0.55555556 0.56565657 0.57575758 0.58585859 0.5959596\n",
      " 0.60606061 0.61616162 0.62626263 0.63636364 0.64646465 0.65656566\n",
      " 0.66666667 0.67676768 0.68686869 0.6969697  0.70707071 0.71717172\n",
      " 0.72727273 0.73737374 0.74747475 0.75757576 0.76767677 0.77777778\n",
      " 0.78787879 0.7979798  0.80808081 0.81818182 0.82828283 0.83838384\n",
      " 0.84848485 0.85858586 0.86868687 0.87878788 0.88888889 0.8989899\n",
      " 0.90909091 0.91919192 0.92929293 0.93939394 0.94949495 0.95959596\n",
      " 0.96969697 0.97979798 0.98989899 1.        ]\n"
     ]
    }
   ],
   "source": [
    "Ascaled = (A - Amin)/(Amax - Amin)\n",
    "\n",
    "print(Ascaled)"
   ]
  },
  {
   "cell_type": "markdown",
   "metadata": {},
   "source": [
    "__Why does this work?__\n",
    "\n",
    "<br />\n",
    "\n",
    "* Numpy broadcasts the array so that it can perform vectorized operations\n",
    "\n",
    "<br />\n",
    "\n",
    "* once broadcasted, the arrays have vectorized addition or subtraction (elementwise)\n",
    "\n",
    "<br />\n",
    "\n",
    "<img src='img/numpy_vectorized_computation.jpg' width='550px'/>"
   ]
  },
  {
   "cell_type": "markdown",
   "metadata": {},
   "source": [
    "## Vectorized Mathematical Operations on Numpy Arrays\n",
    "\n",
    "<br />\n",
    "\n",
    "* Numpy also has a lot of convenience functions that help in performing many __mathematical operations on vectors__ such as dot product, exponentiation, etc.\n",
    "\n",
    "<br />\n",
    "\n",
    "* Let us look at a breif example below where we implement the sigmoid function using the `np.exp()` function\n",
    "\n",
    "<br />\n",
    "\n",
    "$$ h(W) =  \\frac{\\mathrm{1} }{\\mathrm{1} + e^{-W}}  $$ "
   ]
  },
  {
   "cell_type": "code",
   "execution_count": 4,
   "metadata": {},
   "outputs": [],
   "source": [
    "def sigmoid(W):\n",
    "    \n",
    "    return 1 / (1 + np.exp(-W))"
   ]
  },
  {
   "cell_type": "code",
   "execution_count": 10,
   "metadata": {},
   "outputs": [
    {
     "data": {
      "text/plain": [
       "array([1.00000000e+00, 9.99993856e-01, 9.99999985e-01, 7.31058579e-01,\n",
       "       3.77513454e-11])"
      ]
     },
     "execution_count": 10,
     "metadata": {},
     "output_type": "execute_result"
    }
   ],
   "source": [
    "sigmoid(np.array([24, 12, 18, 1, -24]))"
   ]
  },
  {
   "cell_type": "markdown",
   "metadata": {},
   "source": [
    "## Numpy cheat sheet\n",
    "\n",
    "<img src='img/numpy_cheat_sheet.png' />"
   ]
  }
 ],
 "metadata": {
  "kernelspec": {
   "display_name": "Python 3",
   "language": "python",
   "name": "python3"
  },
  "language_info": {
   "codemirror_mode": {
    "name": "ipython",
    "version": 3
   },
   "file_extension": ".py",
   "mimetype": "text/x-python",
   "name": "python",
   "nbconvert_exporter": "python",
   "pygments_lexer": "ipython3",
   "version": "3.6.5"
  }
 },
 "nbformat": 4,
 "nbformat_minor": 2
}
