{
 "cells": [
  {
   "cell_type": "code",
   "execution_count": 2,
   "metadata": {},
   "outputs": [],
   "source": [
    "import numpy as np"
   ]
  },
  {
   "cell_type": "code",
   "execution_count": 3,
   "metadata": {},
   "outputs": [],
   "source": [
    "# Sigmoid Function(Activation function)\n",
    "def sigmoid (x):\n",
    "    \n",
    "    return 1 / (1 + np.exp(-x))"
   ]
  },
  {
   "cell_type": "code",
   "execution_count": 4,
   "metadata": {},
   "outputs": [],
   "source": [
    "# Derivative of Sigmoid Function(for back-propogation)\n",
    "def derivatives_sigmoid(x):\n",
    "    \n",
    "    return x * (1 - x)"
   ]
  },
  {
   "cell_type": "code",
   "execution_count": 5,
   "metadata": {},
   "outputs": [],
   "source": [
    "def nn_forward_pass(w_ih, b_ih, w_ho, b_ho):\n",
    "    \n",
    "    hidden_layer1_input = np.dot(X, w_ih) + b_ih\n",
    "    \n",
    "    hidden_layer1_output = sigmoid(hidden_layer1_input)\n",
    "    \n",
    "    output_layer_input = np.dot(hidden_layer1_output, w_ho) + b_ho\n",
    "    \n",
    "    output = sigmoid(output_layer_input)\n",
    "    \n",
    "    return output, hidden_layer1_output"
   ]
  },
  {
   "cell_type": "code",
   "execution_count": 6,
   "metadata": {},
   "outputs": [],
   "source": [
    "def nn_back_prop(w_ih, b_ih, w_ho, b_ho, output):\n",
    "    \n",
    "    E = y - output\n",
    "    \n",
    "    slope_output_layer = derivatives_sigmoid(output)\n",
    "    \n",
    "    slope_hidden_layer = derivatives_sigmoid(hidden_layer1_output)\n",
    "    \n",
    "    d_output = E * slope_output_layer\n",
    "    \n",
    "    Error_at_hidden_layer = d_output.dot(w_ho.T)\n",
    "    \n",
    "    d_hiddenlayer = Error_at_hidden_layer * slope_hidden_layer\n",
    "    \n",
    "    w_ho += hidden_layer1_output.T.dot(d_output) * lr\n",
    "    \n",
    "    b_ho += np.sum(d_output, axis=0, keepdims=True) * lr\n",
    "    \n",
    "    w_ih += X.T.dot(d_hiddenlayer) * lr\n",
    "    \n",
    "    b_ih += np.sum(d_hiddenlayer, axis=0, keepdims=True) * lr\n",
    "    \n",
    "    return w_ih, b_ih, w_ho, b_ho"
   ]
  },
  {
   "cell_type": "code",
   "execution_count": 7,
   "metadata": {},
   "outputs": [],
   "source": [
    "def run_network():\n",
    "    \n",
    "    # Input array\n",
    "    X = np.array([[1,0,50,1],[1,0,75,0],[0,1,20,1]])\n",
    "    \n",
    "    print(\"Input data is :\\n{}\".format(X))\n",
    "    \n",
    "    print(\"\\nDimensions of the input data : {}\\n\".format(X.shape))\n",
    "    \n",
    "    # Output array\n",
    "    y = np.array([[1],[1],[0]])\n",
    "    \n",
    "    print(\"Output label is :\\n{}\".format(y))\n",
    "    \n",
    "    print(\"\\nDimensions of the Output data : {}\\n\".format(X.shape))\n",
    "    \n",
    "    # Variable initialization and setting outer design of Neural network \n",
    "\n",
    "    epoch = 10000  # Setting training iterations\n",
    "\n",
    "    lr = 0.05  # Setting learning rate\n",
    "\n",
    "    inputlayer_neurons = X.shape[1]  # number of features in data set\n",
    "\n",
    "    hiddenlayer_neurons = 3  # number of hidden layers neurons\n",
    "\n",
    "    output_neurons = 1  # number of neurons at output layer\n",
    "    \n",
    "    #weight and bias initialization\n",
    "    w_ih = np.random.uniform(size = (inputlayer_neurons, hiddenlayer_neurons))\n",
    "    print(\"Initial weight matrix between input and hidden layer :\\n{}\".format(w_ih))\n",
    "\n",
    "    b_ih = np.random.uniform(size = (1, hiddenlayer_neurons))\n",
    "    print(\"\\nInitial bias matrix between input and hidden layer :\\n{}\".format(b_ih))\n",
    "\n",
    "    w_ho = np.random.uniform(size = (hiddenlayer_neurons, output_neurons))\n",
    "    print(\"\\nInitial weight matrix between hidden and output layer :\\n{}\".format(w_ho))\n",
    "\n",
    "    b_ho = np.random.uniform(size = (1, output_neurons))\n",
    "    print(\"\\nInitial bias matrix between hidden and output layer :\\n{}\".format(b_ho))\n",
    "    \n",
    "    for i in range(epoch):\n",
    "    \n",
    "        output, hidden_layer1_output = nn_forward_pass(w_ih, b_ih, w_ho, b_ho)\n",
    "    \n",
    "        w_ih, b_ih, w_ho, b_ho = nn_back_prop(w_ih, b_ih, w_ho, b_ho, output)\n",
    "    \n",
    "    print(\"\\nPrediction from neural network :\\n{}\".format(output))"
   ]
  },
  {
   "cell_type": "code",
   "execution_count": 8,
   "metadata": {},
   "outputs": [
    {
     "name": "stdout",
     "output_type": "stream",
     "text": [
      "Input data is :\n",
      "[[ 1  0 50  1]\n",
      " [ 1  0 75  0]\n",
      " [ 0  1 20  1]]\n",
      "\n",
      "Dimensions of the input data : (3, 4)\n",
      "\n",
      "Output label is :\n",
      "[[1]\n",
      " [1]\n",
      " [0]]\n",
      "\n",
      "Dimensions of the Output data : (3, 4)\n",
      "\n",
      "Initial weight matrix between input and hidden layer :\n",
      "[[0.87934618 0.91024629 0.23607113]\n",
      " [0.91094895 0.67371226 0.32043583]\n",
      " [0.24809409 0.94205997 0.76920628]\n",
      " [0.16469855 0.24850237 0.59037689]]\n",
      "\n",
      "Initial bias matrix between input and hidden layer :\n",
      "[[0.84098043 0.96321815 0.97138594]]\n",
      "\n",
      "Initial weight matrix between hidden and output layer :\n",
      "[[0.3718534 ]\n",
      " [0.74299396]\n",
      " [0.15421842]]\n",
      "\n",
      "Initial bias matrix between hidden and output layer :\n",
      "[[0.15998669]]\n"
     ]
    },
    {
     "ename": "NameError",
     "evalue": "name 'X' is not defined",
     "output_type": "error",
     "traceback": [
      "\u001b[1;31m---------------------------------------------------------------------------\u001b[0m",
      "\u001b[1;31mNameError\u001b[0m                                 Traceback (most recent call last)",
      "\u001b[1;32m<ipython-input-8-ce518460e16e>\u001b[0m in \u001b[0;36m<module>\u001b[1;34m()\u001b[0m\n\u001b[1;32m----> 1\u001b[1;33m \u001b[0mrun_network\u001b[0m\u001b[1;33m(\u001b[0m\u001b[1;33m)\u001b[0m\u001b[1;33m\u001b[0m\u001b[0m\n\u001b[0m",
      "\u001b[1;32m<ipython-input-7-97ea162dd68c>\u001b[0m in \u001b[0;36mrun_network\u001b[1;34m()\u001b[0m\n\u001b[0;32m     42\u001b[0m     \u001b[1;32mfor\u001b[0m \u001b[0mi\u001b[0m \u001b[1;32min\u001b[0m \u001b[0mrange\u001b[0m\u001b[1;33m(\u001b[0m\u001b[0mepoch\u001b[0m\u001b[1;33m)\u001b[0m\u001b[1;33m:\u001b[0m\u001b[1;33m\u001b[0m\u001b[0m\n\u001b[0;32m     43\u001b[0m \u001b[1;33m\u001b[0m\u001b[0m\n\u001b[1;32m---> 44\u001b[1;33m         \u001b[0moutput\u001b[0m\u001b[1;33m,\u001b[0m \u001b[0mhidden_layer1_output\u001b[0m \u001b[1;33m=\u001b[0m \u001b[0mnn_forward_pass\u001b[0m\u001b[1;33m(\u001b[0m\u001b[0mw_ih\u001b[0m\u001b[1;33m,\u001b[0m \u001b[0mb_ih\u001b[0m\u001b[1;33m,\u001b[0m \u001b[0mw_ho\u001b[0m\u001b[1;33m,\u001b[0m \u001b[0mb_ho\u001b[0m\u001b[1;33m)\u001b[0m\u001b[1;33m\u001b[0m\u001b[0m\n\u001b[0m\u001b[0;32m     45\u001b[0m \u001b[1;33m\u001b[0m\u001b[0m\n\u001b[0;32m     46\u001b[0m         \u001b[0mw_ih\u001b[0m\u001b[1;33m,\u001b[0m \u001b[0mb_ih\u001b[0m\u001b[1;33m,\u001b[0m \u001b[0mw_ho\u001b[0m\u001b[1;33m,\u001b[0m \u001b[0mb_ho\u001b[0m \u001b[1;33m=\u001b[0m \u001b[0mnn_back_prop\u001b[0m\u001b[1;33m(\u001b[0m\u001b[0mw_ih\u001b[0m\u001b[1;33m,\u001b[0m \u001b[0mb_ih\u001b[0m\u001b[1;33m,\u001b[0m \u001b[0mw_ho\u001b[0m\u001b[1;33m,\u001b[0m \u001b[0mb_ho\u001b[0m\u001b[1;33m,\u001b[0m \u001b[0moutput\u001b[0m\u001b[1;33m)\u001b[0m\u001b[1;33m\u001b[0m\u001b[0m\n",
      "\u001b[1;32m<ipython-input-5-617b79d19630>\u001b[0m in \u001b[0;36mnn_forward_pass\u001b[1;34m(w_ih, b_ih, w_ho, b_ho)\u001b[0m\n\u001b[0;32m      1\u001b[0m \u001b[1;32mdef\u001b[0m \u001b[0mnn_forward_pass\u001b[0m\u001b[1;33m(\u001b[0m\u001b[0mw_ih\u001b[0m\u001b[1;33m,\u001b[0m \u001b[0mb_ih\u001b[0m\u001b[1;33m,\u001b[0m \u001b[0mw_ho\u001b[0m\u001b[1;33m,\u001b[0m \u001b[0mb_ho\u001b[0m\u001b[1;33m)\u001b[0m\u001b[1;33m:\u001b[0m\u001b[1;33m\u001b[0m\u001b[0m\n\u001b[0;32m      2\u001b[0m \u001b[1;33m\u001b[0m\u001b[0m\n\u001b[1;32m----> 3\u001b[1;33m     \u001b[0mhidden_layer1_input\u001b[0m \u001b[1;33m=\u001b[0m \u001b[0mnp\u001b[0m\u001b[1;33m.\u001b[0m\u001b[0mdot\u001b[0m\u001b[1;33m(\u001b[0m\u001b[0mX\u001b[0m\u001b[1;33m,\u001b[0m \u001b[0mw_ih\u001b[0m\u001b[1;33m)\u001b[0m \u001b[1;33m+\u001b[0m \u001b[0mb_ih\u001b[0m\u001b[1;33m\u001b[0m\u001b[0m\n\u001b[0m\u001b[0;32m      4\u001b[0m \u001b[1;33m\u001b[0m\u001b[0m\n\u001b[0;32m      5\u001b[0m     \u001b[0mhidden_layer1_output\u001b[0m \u001b[1;33m=\u001b[0m \u001b[0msigmoid\u001b[0m\u001b[1;33m(\u001b[0m\u001b[0mhidden_layer1_input\u001b[0m\u001b[1;33m)\u001b[0m\u001b[1;33m\u001b[0m\u001b[0m\n",
      "\u001b[1;31mNameError\u001b[0m: name 'X' is not defined"
     ]
    }
   ],
   "source": [
    "run_network()"
   ]
  }
 ],
 "metadata": {
  "kernelspec": {
   "display_name": "Python 3",
   "language": "python",
   "name": "python3"
  },
  "language_info": {
   "codemirror_mode": {
    "name": "ipython",
    "version": 3
   },
   "file_extension": ".py",
   "mimetype": "text/x-python",
   "name": "python",
   "nbconvert_exporter": "python",
   "pygments_lexer": "ipython3",
   "version": "3.6.5"
  }
 },
 "nbformat": 4,
 "nbformat_minor": 2
}
